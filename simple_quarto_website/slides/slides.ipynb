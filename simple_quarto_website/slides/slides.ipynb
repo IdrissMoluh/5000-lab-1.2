{
 "cells": [
  {
   "cell_type": "markdown",
   "metadata": {
    "slideshow": {
     "slide_type": "slide"
    }
   },
   "source": [
    "---\n",
    "title: \"Presentation\"\n",
    "author: \"Idriss Moluh\"\n",
    "\n",
    "\n",
    "\n",
    "---\n"
   ]
  },
  {
   "cell_type": "markdown",
   "metadata": {
    "slideshow": {
     "slide_type": "slide"
    }
   },
   "source": [
    "\n",
    "\n",
    "## GIFLNDL\n",
    "Vestibulum lectus mauris ultrices eros in cursus turpis. <cite data-cite=\"alber1993metric\">[alber1993metric]</cite> Suscipit tellus mauris a diam.\n",
    "Vestibulum lectus mauris ultrices eros in cursus turpis. Suscipit tellus mauris a diam. Nunc faucibus a pellentesque sit amet. Interdum velit euismod in pellentesque massa placerat duis.\n",
    "\n",
    "<img src=\"../slides/image/cameroonian_soccer_team.PNG\" width=200px height=200px />\n"
   ]
  },
  {
   "cell_type": "markdown",
   "metadata": {
    "slideshow": {
     "slide_type": "slide"
    }
   },
   "source": [
    "\n",
    "\n",
    "## KNHRP\n",
    "Eu volutpat odio facilisis mauris sit amet massa vitae.Mattis aliquam faucibus purus in massa. Lacus viverra vitae congue eu. Proin sagittis nisl rhoncus mattis rhoncus urna neque viverra justo.Tempus egestas sed sed risus pretium. Dui id ornare arcu odio. Eget nullam non nisi est sit amet.\n"
   ]
  },
  {
   "cell_type": "code",
   "execution_count": 1,
   "metadata": {
    "slideshow": {
     "slide_type": "slide"
    }
   },
   "outputs": [
    {
     "data": {
      "image/png": "[encoded data removed]",
      "text/plain": [
       "<Figure size 700x500 with 1 Axes>"
      ]
     },
     "metadata": {},
     "output_type": "display_data"
    }
   ],
   "source": [
    "from matplotlib import pyplot as plt\n",
    "import random\n",
    "\n",
    "points_count = 10\n",
    "color = \"blue\"\n",
    "x = [random.gauss(0, 1) for _ in range(points_count)]\n",
    "y = [random.gauss(0, 1) for _ in range(points_count)]\n",
    "\n",
    "plt.figure(figsize=(7, 5))\n",
    "_ = plt.plot(x, y, '.', markersize=12, color=color)\n"
   ]
  },
  {
   "cell_type": "markdown",
   "metadata": {
    "slideshow": {
     "slide_type": "slide"
    }
   },
   "source": [
    "\n",
    "## MRHGF\n",
    "Pretium nibh ipsum consequat nisl vel pretium lectus quam id. Laoreet suspendisse interdum consectetur libero. Fermentum dui faucibus in ornare quam viverra orci sagittis eu  Feugiat nibh sed pulvinar proin.\n",
    "\n",
    "<img src=\"../slides/image/my_image.PNG\" width=200px height=200px /> .\n"
   ]
  },
  {
   "cell_type": "markdown",
   "metadata": {
    "slideshow": {
     "slide_type": "skip"
    }
   },
   "source": []
  }
 ],
 "metadata": {
  "celltoolbar": "Slideshow",
  "kernelspec": {
   "display_name": "Python 3 (ipykernel)",
   "language": "python",
   "name": "python3"
  },
  "language_info": {
   "codemirror_mode": {
    "name": "ipython",
    "version": 3
   },
   "file_extension": ".py",
   "mimetype": "text/x-python",
   "name": "python",
   "nbconvert_exporter": "python",
   "pygments_lexer": "ipython3",
   "version": "3.10.9"
  }
 },
 "nbformat": 4,
 "nbformat_minor": 2
}
